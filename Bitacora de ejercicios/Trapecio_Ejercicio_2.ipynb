{
  "nbformat": 4,
  "nbformat_minor": 0,
  "metadata": {
    "colab": {
      "name": "Trapecio Ejercicio 2",
      "provenance": [],
      "collapsed_sections": []
    },
    "kernelspec": {
      "name": "python3",
      "display_name": "Python 3"
    },
    "language_info": {
      "name": "python"
    }
  },
  "cells": [
    {
      "cell_type": "code",
      "metadata": {
        "colab": {
          "base_uri": "https://localhost:8080/"
        },
        "id": "0rDYMGFvtgWh",
        "outputId": "07f24ece-7745-475e-f4f5-dc4605388479"
      },
      "source": [
        "#Wiliam Santiago Sierra Guemez\n",
        "import math \n",
        "def arregloEvaluacion(n):\n",
        "  aevaluaciones = [fx(a+i*h) for i in range(n+1)]\n",
        "  return aevaluaciones\n",
        "def fx(x):\n",
        "  return math.e**x\n",
        "\n",
        "\n",
        "a=0\n",
        "b=1\n",
        "n=10\n",
        "h = 0.1\n",
        "\n",
        "afxi = arregloEvaluacion(n)\n",
        "sumap = sum( [afxi[i] for i in range(1,n)])\n",
        "resultado =(h/2) * (afxi[0] + 2*sumap+afxi[n])\n",
        "print(\"El resultado es:\",resultado)"
      ],
      "execution_count": null,
      "outputs": [
        {
          "output_type": "stream",
          "text": [
            "El resultado es: 1.7197134913893146\n"
          ],
          "name": "stdout"
        }
      ]
    }
  ]
}