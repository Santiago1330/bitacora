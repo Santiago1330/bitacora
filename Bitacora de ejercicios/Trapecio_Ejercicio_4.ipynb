{
  "nbformat": 4,
  "nbformat_minor": 0,
  "metadata": {
    "colab": {
      "name": "Trapecio Ejercicio 4",
      "provenance": [],
      "collapsed_sections": []
    },
    "kernelspec": {
      "name": "python3",
      "display_name": "Python 3"
    },
    "language_info": {
      "name": "python"
    }
  },
  "cells": [
    {
      "cell_type": "code",
      "metadata": {
        "colab": {
          "base_uri": "https://localhost:8080/"
        },
        "id": "7QTr9l95wMzv",
        "outputId": "d877f9b7-565b-49c2-9cc9-e0acfa504cbe"
      },
      "source": [
        "#Wiliam Santiago Sierra Guemez\n",
        "import math \n",
        "def arregloEvaluacion(n):\n",
        "  aevaluaciones = [fx(a+i*h) for i in range(n+1)]\n",
        "  return aevaluaciones\n",
        "def fx(x):\n",
        "  return (1)/math.sqrt(x-1)\n",
        "\n",
        "a=2\n",
        "b=3\n",
        "n=10\n",
        "h = 0.1\n",
        "\n",
        "afxi = arregloEvaluacion(n)\n",
        "sumap = sum( [afxi[i] for i in range(1,n)])\n",
        "resultado =(h/2) * (afxi[0] + 2*sumap+afxi[n])\n",
        "print(\"El resultado es:\",resultado)"
      ],
      "execution_count": null,
      "outputs": [
        {
          "output_type": "stream",
          "text": [
            "El resultado es: 0.8286962410476821\n"
          ],
          "name": "stdout"
        }
      ]
    }
  ]
}