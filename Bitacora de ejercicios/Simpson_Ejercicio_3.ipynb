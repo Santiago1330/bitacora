{
  "nbformat": 4,
  "nbformat_minor": 0,
  "metadata": {
    "colab": {
      "name": "Simpson Ejercicio 3",
      "provenance": [],
      "collapsed_sections": []
    },
    "kernelspec": {
      "name": "python3",
      "display_name": "Python 3"
    },
    "language_info": {
      "name": "python"
    }
  },
  "cells": [
    {
      "cell_type": "code",
      "metadata": {
        "colab": {
          "base_uri": "https://localhost:8080/"
        },
        "id": "vmARq-RT1Y4X",
        "outputId": "a8145e91-7c3d-4f5a-943c-20b3f4f6e075"
      },
      "source": [
        "#Wiliam Santiago Sierra Guemez\n",
        "import math \n",
        "def fx(x):\n",
        "  return x+2*(x**2)-x**3+5*(x**4)\n",
        "\n",
        "def arregloEvaluacion(n):\n",
        "  aevaluaciones = [fx(a+i*h) for i in range(n+1)]\n",
        "  return aevaluaciones\n",
        "\n",
        "a=-1\n",
        "b=1\n",
        "n=20\n",
        "h = 0.1\n",
        "\n",
        "afxi = arregloEvaluacion(n)\n",
        "sumador = afxi[0] + afxi[n]\n",
        "sumapar=0\n",
        "sumaimpar=0\n",
        "for i in range(n):\n",
        "  if i % 2 ==0:\n",
        "    sumapar += afxi[i]\n",
        "  else:\n",
        "    sumaimpar += afxi[i]\n",
        "\n",
        "sumapar *=2\n",
        "sumaimpar *=4\n",
        "\n",
        "sumador = sumador + sumapar + sumaimpar\n",
        "resultado = (h/3) * sumador \n",
        "\n",
        "print(\"El resultado es:\",resultado)"
      ],
      "execution_count": null,
      "outputs": [
        {
          "output_type": "stream",
          "text": [
            "El resultado es: 3.8001333333333345\n"
          ],
          "name": "stdout"
        }
      ]
    }
  ]
}