{
  "nbformat": 4,
  "nbformat_minor": 0,
  "metadata": {
    "colab": {
      "name": "Trapecio Ejercicio 3",
      "provenance": [],
      "collapsed_sections": []
    },
    "kernelspec": {
      "name": "python3",
      "display_name": "Python 3"
    },
    "language_info": {
      "name": "python"
    }
  },
  "cells": [
    {
      "cell_type": "code",
      "metadata": {
        "colab": {
          "base_uri": "https://localhost:8080/"
        },
        "id": "suxClaTyu_cZ",
        "outputId": "7eeef27a-4d68-4a68-ed80-cbb4e07288f8"
      },
      "source": [
        "#Wiliam Santiago Sierra Guemez\n",
        "import math \n",
        "def arregloEvaluacion(n):\n",
        "  aevaluaciones = [fx(a+i*h) for i in range(n+1)]\n",
        "  return aevaluaciones\n",
        "def fx(x):\n",
        "  return x+2*(x**2)-x**3+5*(x**4)\n",
        "\n",
        "\n",
        "a=-1\n",
        "b=1\n",
        "n=20\n",
        "h = 0.1\n",
        "\n",
        "afxi = arregloEvaluacion(n)\n",
        "sumap = sum( [afxi[i] for i in range(1,n)])\n",
        "resultado =(h/2) * (afxi[0] + 2*sumap+afxi[n])\n",
        "print(\"El resultado es:\",resultado)"
      ],
      "execution_count": null,
      "outputs": [
        {
          "output_type": "stream",
          "text": [
            "El resultado es: 3.3733000000000004\n"
          ],
          "name": "stdout"
        }
      ]
    }
  ]
}