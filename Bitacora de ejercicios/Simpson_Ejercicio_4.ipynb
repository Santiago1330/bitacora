{
  "nbformat": 4,
  "nbformat_minor": 0,
  "metadata": {
    "colab": {
      "name": "Simpson Ejercicio 4",
      "provenance": [],
      "collapsed_sections": []
    },
    "kernelspec": {
      "name": "python3",
      "display_name": "Python 3"
    },
    "language_info": {
      "name": "python"
    }
  },
  "cells": [
    {
      "cell_type": "code",
      "metadata": {
        "colab": {
          "base_uri": "https://localhost:8080/"
        },
        "id": "B3WHbOg02VDO",
        "outputId": "1bad2de8-6eaa-4e8d-bab5-5c2180e6904b"
      },
      "source": [
        "#Wiliam Santiago Sierra Guemez\n",
        "import math \n",
        "def fx(x):\n",
        "  return (1)/math.sqrt(x-1)\n",
        "\n",
        "def arregloEvaluacion(n):\n",
        "  aevaluaciones = [fx(a+i*h) for i in range(n+1)]\n",
        "  return aevaluaciones\n",
        "\n",
        "a=2\n",
        "b=3\n",
        "n=10\n",
        "h = 0.1\n",
        "\n",
        "afxi = arregloEvaluacion(n)\n",
        "sumador = afxi[0] + afxi[n]\n",
        "sumapar=0\n",
        "sumaimpar=0\n",
        "for i in range(n):\n",
        "  if i % 2 ==0:\n",
        "    sumapar += afxi[i]\n",
        "  else:\n",
        "    sumaimpar += afxi[i]\n",
        "\n",
        "sumapar *=2\n",
        "sumaimpar *=4\n",
        "\n",
        "sumador = sumador + sumapar + sumaimpar\n",
        "resultado = (h/3) * sumador \n",
        "\n",
        "print(\"El resultado es:\",resultado)"
      ],
      "execution_count": null,
      "outputs": [
        {
          "output_type": "stream",
          "text": [
            "El resultado es: 0.8950947225943034\n"
          ],
          "name": "stdout"
        }
      ]
    }
  ]
}