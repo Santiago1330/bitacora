{
  "nbformat": 4,
  "nbformat_minor": 0,
  "metadata": {
    "colab": {
      "name": "Simpson Ejercicio 1",
      "provenance": []
    },
    "kernelspec": {
      "name": "python3",
      "display_name": "Python 3"
    },
    "language_info": {
      "name": "python"
    }
  },
  "cells": [
    {
      "cell_type": "code",
      "metadata": {
        "colab": {
          "base_uri": "https://localhost:8080/"
        },
        "id": "eCzklZ52y0nx",
        "outputId": "fc1dc92f-c7e2-43d0-a127-1e65fc217729"
      },
      "source": [
        "import math \n",
        "def fx(x):\n",
        "  return 3*(x**2)\n",
        "\n",
        "def arregloEvaluacion(n):\n",
        "  aevaluaciones = [fx(a+i*h) for i in range(n+1)]\n",
        "  return aevaluaciones\n",
        "\n",
        "a=0\n",
        "b=2\n",
        "n=20\n",
        "h = 0.1\n",
        "\n",
        "afxi = arregloEvaluacion(n)\n",
        "sumador = afxi[0] + afxi[n]\n",
        "sumapar=0\n",
        "sumaimpar=0\n",
        "for i in range(n):\n",
        "  if i % 2 ==0:\n",
        "    sumapar += afxi[i]\n",
        "  else:\n",
        "    sumaimpar += afxi[i]\n",
        "\n",
        "sumapar *=2\n",
        "sumaimpar *=4\n",
        "\n",
        "sumador = sumador + sumapar + sumaimpar\n",
        "resultado = (h/3) * sumador \n",
        "\n",
        "print(\"El resultado es:\",resultado)"
      ],
      "execution_count": null,
      "outputs": [
        {
          "output_type": "stream",
          "text": [
            "El resultado es: 8.0\n"
          ],
          "name": "stdout"
        }
      ]
    }
  ]
}