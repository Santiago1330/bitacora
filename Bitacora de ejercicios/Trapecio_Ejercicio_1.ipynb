{
  "nbformat": 4,
  "nbformat_minor": 0,
  "metadata": {
    "colab": {
      "name": "Trapecio Ejercicio 1",
      "provenance": [],
      "collapsed_sections": []
    },
    "kernelspec": {
      "name": "python3",
      "display_name": "Python 3"
    },
    "language_info": {
      "name": "python"
    }
  },
  "cells": [
    {
      "cell_type": "code",
      "metadata": {
        "colab": {
          "base_uri": "https://localhost:8080/"
        },
        "id": "_gwzEqjgq1pa",
        "outputId": "7d510633-99a4-430f-baa0-7c8d42375cca"
      },
      "source": [
        "#Wiliam Santiago Sierra Guemez\n",
        "import math \n",
        "def arregloEvaluacion(n):\n",
        "  aevaluaciones = [fx(a+i*h) for i in range(n+1)]\n",
        "  return aevaluaciones\n",
        "def fx(x):\n",
        "  return 3*(x**2)\n",
        "\n",
        "\n",
        "a=0\n",
        "b=2\n",
        "n=20\n",
        "h = 0.1\n",
        "\n",
        "afxi = arregloEvaluacion(n)\n",
        "sumap = sum( [afxi[i] for i in range(1,n)])\n",
        "resultado =(h/2) * (afxi[0] + 2*sumap+afxi[n])\n",
        "print(\"El resultado es:\",resultado)"
      ],
      "execution_count": null,
      "outputs": [
        {
          "output_type": "stream",
          "text": [
            "El resultado es: 8.010000000000002\n"
          ],
          "name": "stdout"
        }
      ]
    }
  ]
}